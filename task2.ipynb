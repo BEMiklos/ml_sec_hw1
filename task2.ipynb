{
 "cells": [
  {
   "cell_type": "code",
   "execution_count": 2,
   "metadata": {},
   "outputs": [],
   "source": [
    "import torch\n",
    "import numpy as np\n",
    "from math import ceil\n",
    "import torch.nn as nn\n",
    "import torch.nn.functional as F\n",
    "from typing import Tuple\n",
    "from torch.utils.data import DataLoader\n",
    "from torchvision.datasets import DatasetFolder"
   ]
  },
  {
   "cell_type": "markdown",
   "metadata": {},
   "source": [
    "## Loading the baseline model"
   ]
  },
  {
   "cell_type": "code",
   "execution_count": 3,
   "metadata": {},
   "outputs": [
    {
     "data": {
      "text/plain": [
       "device(type='cpu')"
      ]
     },
     "execution_count": 3,
     "metadata": {},
     "output_type": "execute_result"
    }
   ],
   "source": [
    "device = torch.device(\"cuda\" if torch.cuda.is_available() else \"cpu\")\n",
    "device"
   ]
  },
  {
   "cell_type": "code",
   "execution_count": 4,
   "metadata": {},
   "outputs": [],
   "source": [
    "class ConvNet(nn.Module):\n",
    "    def __init__(self):\n",
    "        super(ConvNet, self).__init__()\n",
    "        self.conv1 = nn.Conv1d(1, 16, kernel_size=(10,), stride=(1,))\n",
    "        self.fc1 = nn.Linear(65496, 1)  # Adjust the input size based on your data size\n",
    "\n",
    "    def forward(self, x):\n",
    "        x = F.relu(self.conv1(x))\n",
    "        x = F.max_pool2d(x, kernel_size=2, stride=2, padding=0, dilation=1, ceil_mode=False)\n",
    "        x = x.view(-1, 65496)\n",
    "        return F.sigmoid(self.fc1(x))"
   ]
  },
  {
   "cell_type": "code",
   "execution_count": 5,
   "metadata": {},
   "outputs": [
    {
     "data": {
      "text/plain": [
       "ConvNet(\n",
       "  (conv1): Conv1d(1, 16, kernel_size=(10,), stride=(1,))\n",
       "  (fc1): Linear(in_features=65496, out_features=1, bias=True)\n",
       ")"
      ]
     },
     "execution_count": 5,
     "metadata": {},
     "output_type": "execute_result"
    }
   ],
   "source": [
    "model = ConvNet().to(device)\n",
    "model.load_state_dict(torch.load(\"model.pt\"))\n",
    "model"
   ]
  },
  {
   "cell_type": "markdown",
   "metadata": {},
   "source": [
    "### Evaluation"
   ]
  },
  {
   "cell_type": "code",
   "execution_count": 6,
   "metadata": {},
   "outputs": [],
   "source": [
    "class BinaryTransform:\n",
    "    def __init__(self, input_length):\n",
    "        self.input_length = input_length\n",
    "\n",
    "    def __call__(self, binary_data):\n",
    "        binary_data = np.frombuffer(binary_data, dtype=np.uint8)\n",
    "        \n",
    "        l = len(binary_data)\n",
    "\n",
    "        # Pad or truncate the binary data\n",
    "        if l < self.input_length:\n",
    "            padding = np.zeros(self.input_length - l, dtype=np.uint8)\n",
    "            binary_data = np.concatenate((binary_data, padding))\n",
    "        elif l > self.input_length:\n",
    "            excess = ceil(l / self.input_length)\n",
    "            padding = np.zeros(self.input_length * excess - l, dtype=np.uint8)\n",
    "            binary_data = np.concatenate((binary_data, padding))\n",
    "            binary_data = binary_data.reshape(len(binary_data)//excess, -1)\n",
    "            binary_data = np.mean(binary_data, axis=1)\n",
    "            \n",
    "        # Scale the data to [0, 1]\n",
    "        scaled_data = binary_data / 255.0\n",
    "        tensor = torch.tensor(scaled_data, dtype=torch.float32)\n",
    "        return tensor.unsqueeze(0)"
   ]
  },
  {
   "cell_type": "code",
   "execution_count": 7,
   "metadata": {},
   "outputs": [],
   "source": [
    "test_data_path = \"data/test\"\n",
    "transform = BinaryTransform(16384)\n",
    "test_dataset = DatasetFolder(\n",
    "    root=test_data_path,\n",
    "    loader=lambda x: open(x, 'rb').read(),\n",
    "    extensions=('',),\n",
    "    transform=transform\n",
    ")\n",
    "test_loader = DataLoader(test_dataset, batch_size=64)"
   ]
  },
  {
   "cell_type": "code",
   "execution_count": 8,
   "metadata": {},
   "outputs": [
    {
     "data": {
      "text/plain": [
       "0.9923076923076923"
      ]
     },
     "execution_count": 8,
     "metadata": {},
     "output_type": "execute_result"
    }
   ],
   "source": [
    "correct = 0\n",
    "total = len(test_dataset)\n",
    "\n",
    "with torch.no_grad():\n",
    "    for X, y in test_loader:\n",
    "        X, y = X.to(device), y.to(device)\n",
    "        y_pred = model(X).squeeze()\n",
    "        pred_label = y_pred > 0.5\n",
    "        correct += pred_label.eq(y).sum().item()\n",
    "\n",
    "correct / total"
   ]
  },
  {
   "cell_type": "markdown",
   "metadata": {},
   "source": [
    "## Baseline adversarial accuracy with random suffix"
   ]
  },
  {
   "cell_type": "code",
   "execution_count": 9,
   "metadata": {},
   "outputs": [],
   "source": [
    "class BinaryTransformWithMask:\n",
    "    def __init__(self, input_length: int, adversarial_ratio: float) -> None:\n",
    "        self.input_length = input_length\n",
    "        self.adversarial_ratio = adversarial_ratio\n",
    "\n",
    "    def __call__(self, binary_data: bytes) -> Tuple[torch.Tensor, np.array]:\n",
    "        \"\"\"Returns the model input prepared as a (1,input_length) Tensor,\n",
    "        and the mask which indicates positions influenced exclusively by the adv. suffix.\"\"\"\n",
    "        l_original = len(binary_data)\n",
    "        binary_array = self.get_extended_binary_array(binary_data)\n",
    "        l_with_adversarial = len(binary_array)\n",
    "\n",
    "\n",
    "        if l_with_adversarial < self.input_length:\n",
    "            # the bytes array is too short and zero padding should be added to match input_length\n",
    "            # the mask does not include the zero-padding bytes\n",
    "            padding = np.zeros(self.input_length - l_with_adversarial, dtype=np.uint8)\n",
    "            binary_array = np.concatenate((binary_array, padding))\n",
    "            mask = np.arange(l_original, l_with_adversarial)\n",
    "        elif l_with_adversarial > self.input_length:\n",
    "            # the byte array should be split into ceil(l_with_adversarial / input_length) chunks,\n",
    "            # with the last chunk being padded to chunk size if needed\n",
    "            # when padding is used, that last chunk is not considered part of the adversarial mask \n",
    "            window_size = ceil(l_with_adversarial / self.input_length)\n",
    "            num_original_groups = ceil(l_original / window_size) # byte groups influenced by the original binary\n",
    "            l_padding = self.input_length * window_size - l_with_adversarial\n",
    "            num_padding_groups = ceil(l_padding / window_size)\n",
    "            padding = np.zeros(l_padding, dtype=np.uint8)\n",
    "            binary_array = np.concatenate((binary_array, padding))\n",
    "            binary_array = binary_array.reshape(-1, window_size)\n",
    "            binary_array = np.mean(binary_array, axis=1)\n",
    "            mask = np.arange(num_original_groups, self.input_length - num_padding_groups)\n",
    "        else:\n",
    "            ...\n",
    "            \n",
    "        # Scale the data to [0, 1]\n",
    "        scaled_data = binary_array / 255.0\n",
    "        tensor = torch.tensor(scaled_data, dtype=torch.float32)\n",
    "        return tensor.unsqueeze(0), mask\n",
    "\n",
    "    def get_extended_binary_array(self, binary_data: bytes) -> np.array:\n",
    "        \"\"\"Build the extended binary with the adversarial suffix set to zero.\"\"\"\n",
    "        l = len(binary_data)\n",
    "        l_with_adversarial = ceil(l * (1 + self.adversarial_ratio))\n",
    "        binary_array = np.zeros(l_with_adversarial, dtype=np.uint8)\n",
    "        binary_array[:l] = np.frombuffer(binary_data, dtype=np.uint8)\n",
    "        return binary_array"
   ]
  },
  {
   "cell_type": "code",
   "execution_count": 10,
   "metadata": {},
   "outputs": [
    {
     "data": {
      "text/plain": [
       "(tensor([[0.0078, 0.0196, 0.0314, 0.0131, 0.0000, 0.0000]]),\n",
       " array([], dtype=int64))"
      ]
     },
     "execution_count": 10,
     "metadata": {},
     "output_type": "execute_result"
    }
   ],
   "source": [
    "# example #1 in the assignment text\n",
    "binary_data = bytes(list(range(1, 11)))\n",
    "transform = BinaryTransformWithMask(input_length=6, adversarial_ratio=0.4) # +4 bytes\n",
    "X, M = transform(binary_data)\n",
    "X, M"
   ]
  },
  {
   "cell_type": "code",
   "execution_count": 11,
   "metadata": {},
   "outputs": [
    {
     "data": {
      "text/plain": [
       "(tensor([[0.0078, 0.0196, 0.0314, 0.0131, 0.0000, 0.0000]]), array([4]))"
      ]
     },
     "execution_count": 11,
     "metadata": {},
     "output_type": "execute_result"
    }
   ],
   "source": [
    "# example #2 in the assignment text\n",
    "binary_data = bytes(list(range(1, 11)))\n",
    "transform = BinaryTransformWithMask(input_length=6, adversarial_ratio=0.5) # +5 bytes\n",
    "X, M = transform(binary_data)\n",
    "X, M"
   ]
  },
  {
   "cell_type": "code",
   "execution_count": 12,
   "metadata": {},
   "outputs": [],
   "source": [
    "file_path = \"data/victim/malware/0d41d1d904aecf716303f55108e020fbd9a4dbcd997efb08fba5e10e936d419c\"\n",
    "with open(file_path, \"rb\") as f:\n",
    "    binary_data = f.read()\n",
    "\n",
    "transform = BinaryTransformWithMask(input_length=2**14, adversarial_ratio=0.1)\n",
    "input_tensor, M = transform(binary_data)\n",
    "input_tensor = input_tensor.unsqueeze(0) # add batch dimension"
   ]
  },
  {
   "cell_type": "code",
   "execution_count": 13,
   "metadata": {},
   "outputs": [
    {
     "data": {
      "text/plain": [
       "tensor([[0.9895]], grad_fn=<SigmoidBackward0>)"
      ]
     },
     "execution_count": 13,
     "metadata": {},
     "output_type": "execute_result"
    }
   ],
   "source": [
    "model(input_tensor)"
   ]
  },
  {
   "cell_type": "markdown",
   "metadata": {},
   "source": [
    "## Random adversary suffix for baseline attack"
   ]
  },
  {
   "cell_type": "code",
   "execution_count": 18,
   "metadata": {},
   "outputs": [
    {
     "data": {
      "text/plain": [
       "(tensor([[0.8141]], grad_fn=<SigmoidBackward0>), 1450)"
      ]
     },
     "execution_count": 18,
     "metadata": {},
     "output_type": "execute_result"
    }
   ],
   "source": [
    "input_with_adversary = input_tensor.clone()\n",
    "adversary_features = torch.rand(len(M), dtype=torch.float32)\n",
    "input_with_adversary[...,M] += adversary_features\n",
    "model(input_with_adversary), len(M)"
   ]
  },
  {
   "cell_type": "code",
   "execution_count": 71,
   "metadata": {},
   "outputs": [
    {
     "name": "stdout",
     "output_type": "stream",
     "text": [
      "0.05:\t0.1000\n",
      "0.1:\t0.1000\n",
      "0.15:\t0.2200\n",
      "0.2:\t0.2200\n"
     ]
    }
   ],
   "source": [
    "for adversarial_ratio in [0.05, 0.1, 0.15, 0.2]:\n",
    "    transform = BinaryTransformWithMask(input_length=2**14, adversarial_ratio=adversarial_ratio)\n",
    "    victim_dataset = DatasetFolder(root=\"data/victim\", loader=lambda x: open(x, 'rb').read(), extensions=('',), transform=transform)\n",
    "    \n",
    "    num_successful = 0\n",
    "    num_total = 0\n",
    "\n",
    "    with torch.no_grad():\n",
    "        for (X, M), y in victim_dataset:\n",
    "            if victim_dataset.classes[y] == \"benign\":\n",
    "                # we only need to attack malware samples\n",
    "                continue\n",
    "            \n",
    "            input_with_adversary = X.clone()\n",
    "            adversary_features = torch.rand(len(M), dtype=torch.float32)\n",
    "            input_with_adversary[...,M] += adversary_features\n",
    "            y_pred = model(input_with_adversary.unsqueeze(0)).squeeze()\n",
    "            pred_label = y_pred > 0.5\n",
    "            if pred_label != y:\n",
    "                num_successful += 1\n",
    "            num_total += 1\n",
    "\n",
    "    print(f\"{adversarial_ratio}:\\t{num_successful / num_total:.4f}\")"
   ]
  },
  {
   "cell_type": "markdown",
   "metadata": {},
   "source": [
    "## Optimized attack with PGD"
   ]
  },
  {
   "cell_type": "code",
   "execution_count": 15,
   "metadata": {},
   "outputs": [
    {
     "name": "stdout",
     "output_type": "stream",
     "text": [
      "0 -0.09132120013237\n",
      "5 -0.438446581363678\n",
      "10 -1.2860522270202637\n",
      "15 -2.439924478530884\n",
      "20 -3.640349864959717\n",
      "25 -4.766554355621338\n",
      "30 -5.805830001831055\n",
      "35 -6.708270072937012\n",
      "40 -7.517575740814209\n",
      "45 -8.221761703491211\n"
     ]
    }
   ],
   "source": [
    "adversary_features = torch.rand(len(M), dtype=torch.float32, requires_grad=True)\n",
    "opt = torch.optim.SGD([adversary_features], lr=0.01)\n",
    "\n",
    "loss_fn = nn.BCELoss()\n",
    "\n",
    "for t in range(50):\n",
    "    input_with_adversary = input_tensor.clone()\n",
    "    input_with_adversary[...,M] += adversary_features\n",
    "    pred = model(input_with_adversary).squeeze()\n",
    "    loss = -loss_fn(pred, torch.tensor(1, dtype=torch.float32)) # 1 = malware\n",
    "    if t % 5 == 0:\n",
    "        print(t, loss.item())\n",
    "       \n",
    "    opt.zero_grad()\n",
    "    loss.backward()\n",
    "    adversary_features.grad.sign_()\n",
    "    opt.step()\n",
    "\n",
    "    # projection with clipping\n",
    "    adversary_features.data.clamp_(0, 1)"
   ]
  },
  {
   "cell_type": "code",
   "execution_count": 16,
   "metadata": {},
   "outputs": [
    {
     "data": {
      "text/plain": [
       "tensor([[0.0002]], grad_fn=<SigmoidBackward0>)"
      ]
     },
     "execution_count": 16,
     "metadata": {},
     "output_type": "execute_result"
    }
   ],
   "source": [
    "model(input_with_adversary)"
   ]
  },
  {
   "cell_type": "code",
   "execution_count": 17,
   "metadata": {},
   "outputs": [
    {
     "data": {
      "text/plain": [
       "tensor([0.7072, 0.0000, 0.3410,  ..., 0.0000, 1.0000, 1.0000],\n",
       "       requires_grad=True)"
      ]
     },
     "execution_count": 17,
     "metadata": {},
     "output_type": "execute_result"
    }
   ],
   "source": [
    "adversary_features"
   ]
  },
  {
   "cell_type": "code",
   "execution_count": 70,
   "metadata": {},
   "outputs": [
    {
     "name": "stdout",
     "output_type": "stream",
     "text": [
      "0.05:\t0.5000\n",
      "0.1:\t0.8000\n",
      "0.15:\t0.8600\n",
      "0.2:\t0.9200\n"
     ]
    }
   ],
   "source": [
    "loss_fn = nn.BCELoss()\n",
    "\n",
    "for adversarial_ratio in [0.05, 0.1, 0.15, 0.2]:\n",
    "    transform = BinaryTransformWithMask(input_length=2**14, adversarial_ratio=adversarial_ratio)\n",
    "    victim_dataset = DatasetFolder(root=\"data/victim\", loader=lambda x: open(x, 'rb').read(), extensions=('',), transform=transform)\n",
    "    \n",
    "    num_successful = 0\n",
    "    num_total = 0\n",
    "\n",
    "    for (X, M), y in victim_dataset:\n",
    "        if victim_dataset.classes[y] == \"benign\":\n",
    "            # we only need to attack malware samples\n",
    "            continue\n",
    "\n",
    "        malware_idx = victim_dataset.class_to_idx[\"malware\"]\n",
    "        \n",
    "        adversary_features = torch.rand(len(M), dtype=torch.float32, requires_grad=True)\n",
    "        opt = torch.optim.SGD([adversary_features], lr=0.01)\n",
    "\n",
    "        # PGD\n",
    "        for t in range(100):\n",
    "            input_with_adversary = X.clone().unsqueeze(0) # add batch dimension\n",
    "            input_with_adversary[...,M] += adversary_features\n",
    "            pred = model(input_with_adversary).squeeze()\n",
    "            loss = -loss_fn(pred, torch.tensor(malware_idx, dtype=torch.float32))\n",
    "            # if t % 5 == 0:\n",
    "            #     print(t, loss.item())\n",
    "            \n",
    "            opt.zero_grad()\n",
    "            loss.backward()\n",
    "            adversary_features.grad.sign_()\n",
    "            opt.step()\n",
    "\n",
    "            # projection with clipping\n",
    "            adversary_features.data.clamp_(0, 1)\n",
    "\n",
    "        # Final prediction:\n",
    "        with torch.no_grad():\n",
    "            y_pred = model(input_with_adversary).squeeze()\n",
    "            pred_label = y_pred > 0.5\n",
    "            if pred_label != y:\n",
    "                num_successful += 1\n",
    "            num_total += 1\n",
    "\n",
    "    print(f\"{adversarial_ratio}:\\t{num_successful / num_total:.4f}\")"
   ]
  },
  {
   "cell_type": "code",
   "execution_count": null,
   "metadata": {},
   "outputs": [],
   "source": []
  }
 ],
 "metadata": {
  "kernelspec": {
   "display_name": "venv",
   "language": "python",
   "name": "python3"
  },
  "language_info": {
   "codemirror_mode": {
    "name": "ipython",
    "version": 3
   },
   "file_extension": ".py",
   "mimetype": "text/x-python",
   "name": "python",
   "nbconvert_exporter": "python",
   "pygments_lexer": "ipython3",
   "version": "3.11.8"
  }
 },
 "nbformat": 4,
 "nbformat_minor": 2
}
