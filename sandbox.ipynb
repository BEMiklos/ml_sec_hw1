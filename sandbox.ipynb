{
 "cells": [
  {
   "cell_type": "code",
   "execution_count": 124,
   "metadata": {},
   "outputs": [],
   "source": [
    "import numpy as np\n",
    "import torch\n",
    "from torch.nn import Sequential, Conv1d, ReLU, MaxPool2d, Linear, Sigmoid, Flatten"
   ]
  },
  {
   "cell_type": "code",
   "execution_count": 125,
   "metadata": {},
   "outputs": [],
   "source": [
    "net = Sequential(\n",
    "    Conv1d(1, 16, kernel_size=(10,), stride=(1,)),\n",
    "    ReLU(),\n",
    "    MaxPool2d(kernel_size=2, stride=2, padding=0, dilation=1, ceil_mode=False),\n",
    "    Flatten(),\n",
    "    Linear(in_features=65496, out_features=1, bias=True),\n",
    "    Sigmoid()\n",
    ")"
   ]
  },
  {
   "cell_type": "code",
   "execution_count": 130,
   "metadata": {},
   "outputs": [],
   "source": [
    "s = 2**14\n",
    "path = \"data/train/benign/004fb7bd7b6da390b0a3d2acc6790cfa8da9c28fa5235bbf8659e1e0c4944e3d\"\n",
    "\n",
    "with open(path, 'rb') as f:\n",
    "    data = f.read()\n",
    "\n",
    "X = np.zeros(s, dtype=np.float32) # the input should be a float tensor even if the raw input is bytes \n",
    "l = len(data)\n",
    "\n",
    "if l < s:\n",
    "    X[:l] = np.frombuffer(data, dtype=np.uint8)\n",
    "elif l > s:\n",
    "    # prerare for mean-pooling\n",
    "    window_size = int(np.ceil(l / s))\n",
    "    byte_group_count = int(np.ceil(l / window_size))\n",
    "    padded_data_length = byte_group_count * window_size\n",
    "    data_array = np.zeros(padded_data_length)\n",
    "    data_array[:l] = np.frombuffer(data, dtype=np.uint8)\n",
    "    # mean pooling\n",
    "    data_array = data_array.reshape((-1, window_size))\n",
    "    X[:byte_group_count] = np.mean(data_array, axis=1)\n",
    "else: # l == s\n",
    "    np.frombuffer(data, dtype=np.uint8)    \n",
    "    \n",
    "# scale to 0..1 float and convert to batch tensor\n",
    "X /= 255.\n",
    "X = torch.from_numpy(X).unsqueeze(0).unsqueeze(0)"
   ]
  },
  {
   "cell_type": "code",
   "execution_count": 131,
   "metadata": {},
   "outputs": [
    {
     "data": {
      "text/plain": [
       "(tensor([[[0.2690, 0.0016, 0.0000,  ..., 0.0000, 0.0000, 0.0000]]]),\n",
       " torch.Size([1, 1, 16384]))"
      ]
     },
     "execution_count": 131,
     "metadata": {},
     "output_type": "execute_result"
    }
   ],
   "source": [
    "X, X.shape"
   ]
  },
  {
   "cell_type": "code",
   "execution_count": 132,
   "metadata": {},
   "outputs": [
    {
     "data": {
      "text/plain": [
       "tensor([[0.5248]], grad_fn=<SigmoidBackward0>)"
      ]
     },
     "execution_count": 132,
     "metadata": {},
     "output_type": "execute_result"
    }
   ],
   "source": [
    "net(X)"
   ]
  },
  {
   "cell_type": "code",
   "execution_count": null,
   "metadata": {},
   "outputs": [],
   "source": []
  }
 ],
 "metadata": {
  "kernelspec": {
   "display_name": "venv",
   "language": "python",
   "name": "python3"
  },
  "language_info": {
   "codemirror_mode": {
    "name": "ipython",
    "version": 3
   },
   "file_extension": ".py",
   "mimetype": "text/x-python",
   "name": "python",
   "nbconvert_exporter": "python",
   "pygments_lexer": "ipython3",
   "version": "3.11.8"
  }
 },
 "nbformat": 4,
 "nbformat_minor": 2
}
